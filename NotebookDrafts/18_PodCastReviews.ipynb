version https://git-lfs.github.com/spec/v1
oid sha256:92f6383e189affca0de24c320f168d747b3b4de7539defc8fe662dc4b2e08d9e
size 110248
