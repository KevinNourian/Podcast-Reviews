version https://git-lfs.github.com/spec/v1
oid sha256:48d727a960b76690aa85ef8a19effcc2b34e45b0c50b22d9092079f523891a5b
size 3894825
