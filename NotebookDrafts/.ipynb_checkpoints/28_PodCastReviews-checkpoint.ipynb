version https://git-lfs.github.com/spec/v1
oid sha256:2492c20277118b2eef6320ae02fba14dc5e8ca46e91c05d3846e4645bed9d3e4
size 5253761
