version https://git-lfs.github.com/spec/v1
oid sha256:52f286cf6c57391836c7b9ca660948b5424ab2c1b4d26580e97bccf5b6474aa0
size 21266
