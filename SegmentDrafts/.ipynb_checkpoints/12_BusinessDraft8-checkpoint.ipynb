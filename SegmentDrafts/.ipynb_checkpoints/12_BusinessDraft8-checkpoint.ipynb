version https://git-lfs.github.com/spec/v1
oid sha256:5f7dd5b805b8c3092d6eb26a9239cfde5054a9a5a136524368d4e136379867cc
size 12157
