version https://git-lfs.github.com/spec/v1
oid sha256:304b4cb03012f57ee9dee82e4f40862c59d239b72f706fffac563b1799e1a660
size 297123
