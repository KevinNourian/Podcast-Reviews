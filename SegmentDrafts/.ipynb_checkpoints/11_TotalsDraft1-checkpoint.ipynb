version https://git-lfs.github.com/spec/v1
oid sha256:1d7f0b200df18890b2ea8d53d8658be341bbb390c56be5b99f30ced0fe657c1d
size 33885
