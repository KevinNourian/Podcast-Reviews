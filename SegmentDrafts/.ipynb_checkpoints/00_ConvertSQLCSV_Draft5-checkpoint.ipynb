version https://git-lfs.github.com/spec/v1
oid sha256:cf57f778ec8018c0eaf7ecf60ce3d56c7569405965d0fa0fc4810538211e77a9
size 133471
