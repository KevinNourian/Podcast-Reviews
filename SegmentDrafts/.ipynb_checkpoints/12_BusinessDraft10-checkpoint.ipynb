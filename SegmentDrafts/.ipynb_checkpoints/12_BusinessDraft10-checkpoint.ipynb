version https://git-lfs.github.com/spec/v1
oid sha256:64ccdc22b137da073eb02058a9c6dc5cd7317319787fafa390840bfb117da5c9
size 293250
