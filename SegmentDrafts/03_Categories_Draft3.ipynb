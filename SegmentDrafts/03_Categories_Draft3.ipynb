version https://git-lfs.github.com/spec/v1
oid sha256:49e7ae50c5073decda922dbc41e84b4b956777f06ef7b5e272b192f3ca5eb7d9
size 17482
