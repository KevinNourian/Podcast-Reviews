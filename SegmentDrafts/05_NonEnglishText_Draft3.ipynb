version https://git-lfs.github.com/spec/v1
oid sha256:389f611380633db1dd1e55b146c6d64b4866a5149179779f6a0a3a8ec0a25800
size 113064
