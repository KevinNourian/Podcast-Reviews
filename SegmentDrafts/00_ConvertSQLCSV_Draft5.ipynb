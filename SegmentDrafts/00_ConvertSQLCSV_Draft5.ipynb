version https://git-lfs.github.com/spec/v1
oid sha256:d1731f560cef286ae52d5e4dabadb8b2f08a125ed77179cb3186943b2c785068
size 142775
