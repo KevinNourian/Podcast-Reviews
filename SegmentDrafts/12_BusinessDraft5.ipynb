version https://git-lfs.github.com/spec/v1
oid sha256:63a5033d41e7b929583324f68ad5525e0e38b381efa171d7a05afeb61e31694e
size 5172356
